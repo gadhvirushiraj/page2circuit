{
 "cells": [
  {
   "cell_type": "code",
   "execution_count": 9,
   "metadata": {},
   "outputs": [
    {
     "ename": "TypeError",
     "evalue": "Drawing.add() got an unexpected keyword argument 'component_type'",
     "output_type": "error",
     "traceback": [
      "\u001b[0;31m---------------------------------------------------------------------------\u001b[0m",
      "\u001b[0;31mTypeError\u001b[0m                                 Traceback (most recent call last)",
      "Cell \u001b[0;32mIn[9], line 34\u001b[0m\n\u001b[1;32m     22\u001b[0m components \u001b[39m=\u001b[39m [\n\u001b[1;32m     23\u001b[0m     (\u001b[39m'\u001b[39m\u001b[39mR1\u001b[39m\u001b[39m'\u001b[39m, (\u001b[39m0\u001b[39m, \u001b[39m0\u001b[39m)),\n\u001b[1;32m     24\u001b[0m     (\u001b[39m'\u001b[39m\u001b[39mC1\u001b[39m\u001b[39m'\u001b[39m, (\u001b[39m2\u001b[39m, \u001b[39m0\u001b[39m)),\n\u001b[1;32m     25\u001b[0m     (\u001b[39m'\u001b[39m\u001b[39mL1\u001b[39m\u001b[39m'\u001b[39m, (\u001b[39m1\u001b[39m, \u001b[39m1\u001b[39m))\n\u001b[1;32m     26\u001b[0m ]\n\u001b[1;32m     28\u001b[0m connections \u001b[39m=\u001b[39m [\n\u001b[1;32m     29\u001b[0m     (\u001b[39m'\u001b[39m\u001b[39mR1\u001b[39m\u001b[39m'\u001b[39m, \u001b[39m'\u001b[39m\u001b[39mC1\u001b[39m\u001b[39m'\u001b[39m),\n\u001b[1;32m     30\u001b[0m     (\u001b[39m'\u001b[39m\u001b[39mC1\u001b[39m\u001b[39m'\u001b[39m, \u001b[39m'\u001b[39m\u001b[39mL1\u001b[39m\u001b[39m'\u001b[39m),\n\u001b[1;32m     31\u001b[0m     (\u001b[39m'\u001b[39m\u001b[39mL1\u001b[39m\u001b[39m'\u001b[39m, \u001b[39m'\u001b[39m\u001b[39mR1\u001b[39m\u001b[39m'\u001b[39m)\n\u001b[1;32m     32\u001b[0m ]\n\u001b[0;32m---> 34\u001b[0m draw_schematic(components, connections)\n",
      "Cell \u001b[0;32mIn[9], line 10\u001b[0m, in \u001b[0;36mdraw_schematic\u001b[0;34m(components, connections)\u001b[0m\n\u001b[1;32m      8\u001b[0m \u001b[39mfor\u001b[39;00m component \u001b[39min\u001b[39;00m components:\n\u001b[1;32m      9\u001b[0m     label, pos \u001b[39m=\u001b[39m component\n\u001b[0;32m---> 10\u001b[0m     component_objects[label] \u001b[39m=\u001b[39m d\u001b[39m.\u001b[39;49madd(component_type\u001b[39m=\u001b[39;49mlabel, anchor\u001b[39m=\u001b[39;49mpos)\n\u001b[1;32m     12\u001b[0m \u001b[39m# Add connections\u001b[39;00m\n\u001b[1;32m     13\u001b[0m \u001b[39mfor\u001b[39;00m connection \u001b[39min\u001b[39;00m connections:\n",
      "\u001b[0;31mTypeError\u001b[0m: Drawing.add() got an unexpected keyword argument 'component_type'"
     ]
    }
   ],
   "source": [
    "from schemdraw import Drawing\n",
    "\n",
    "def draw_schematic(components, connections):\n",
    "    d = Drawing()\n",
    "    \n",
    "    # Add components\n",
    "    component_objects = {}\n",
    "    for component in components:\n",
    "        label, pos = component\n",
    "        component_objects[label] = d.add(component_type=label, anchor=pos)\n",
    "    \n",
    "    # Add connections\n",
    "    for connection in connections:\n",
    "        start, end = connection\n",
    "        d.add_line(component_objects[start], component_objects[end])\n",
    "    \n",
    "    # Save schematic\n",
    "    d.draw()\n",
    "    d.save('schematic.png')\n",
    "\n",
    "# Example usage\n",
    "components = [\n",
    "    ('R1', (0, 0)),\n",
    "    ('C1', (2, 0)),\n",
    "    ('L1', (1, 1))\n",
    "]\n",
    "\n",
    "connections = [\n",
    "    ('R1', 'C1'),\n",
    "    ('C1', 'L1'),\n",
    "    ('L1', 'R1')\n",
    "]\n",
    "\n",
    "draw_schematic(components, connections)\n"
   ]
  },
  {
   "cell_type": "code",
   "execution_count": null,
   "metadata": {},
   "outputs": [],
   "source": []
  }
 ],
 "metadata": {
  "kernelspec": {
   "display_name": "Python 3",
   "language": "python",
   "name": "python3"
  },
  "language_info": {
   "codemirror_mode": {
    "name": "ipython",
    "version": 3
   },
   "file_extension": ".py",
   "mimetype": "text/x-python",
   "name": "python",
   "nbconvert_exporter": "python",
   "pygments_lexer": "ipython3",
   "version": "3.11.2"
  },
  "orig_nbformat": 4
 },
 "nbformat": 4,
 "nbformat_minor": 2
}
